{
 "cells": [
  {
   "cell_type": "code",
   "execution_count": 2,
   "metadata": {
    "collapsed": true,
    "pycharm": {
     "is_executing": false
    }
   },
   "outputs": [],
   "source": [
    "import pandas as pd\n",
    "import yaml\n",
    "from pathlib import Path\n"
   ]
  },
  {
   "cell_type": "code",
   "execution_count": 3,
   "outputs": [],
   "source": [
    "data_dir = Path('../data-dir/inputs/manual').resolve()\n",
    "region_countries = ['US', 'CA', 'AU', 'CN']\n",
    "gleam_reg_df = pd.read_csv(data_dir / 'regions-gleam.csv')\n",
    "reg_df = pd.read_csv(data_dir / 'regions.csv')\n",
    "reg_agg = {}\n",
    "# with (data_dir / 'regions-agg.yaml').open('r') as f:\n",
    "#     reg_agg = yaml.load(f)\n",
    "\n",
    "aggregated_regions = []"
   ],
   "metadata": {
    "collapsed": false,
    "pycharm": {
     "name": "#%%\n",
     "is_executing": false
    }
   }
  },
  {
   "cell_type": "code",
   "execution_count": null,
   "outputs": [],
   "source": [
    "for region in region_countries:\n",
    "    sub_regions = reg_df\\\n",
    "        .loc[reg_df['Code'].str.startswith(f'{region}-', na=False), ['Code', 'Name', 'Population']]\\\n",
    "        .set_index('Code')\\\n",
    "        .to_dict(orient='index')\n",
    "    for code, agg in sub_regions.items():\n",
    "        gleam_regions = list(gleam_reg_df.loc[gleam_reg_df['SubdivisionCode'] == code, 'Code'])\n",
    "        aggregated_regions += gleam_regions\n",
    "        print(gleam_regions)\n",
    "        if agg['AggregateFrom']:\n",
    "            agg['AggregateFrom'] = gleam_regions\n",
    "            reg_agg[code] = agg\n",
    "        else:\n",
    "            print(f\"No subdivisions for {code}\")"
   ],
   "metadata": {
    "collapsed": false,
    "pycharm": {
     "name": "#%%\n"
    }
   }
  },
  {
   "cell_type": "code",
   "execution_count": 9,
   "outputs": [
    {
     "data": {
      "text/plain": "Empty DataFrame\nColumns: [Code, Name, OfficialName, OtherNames, Level, M49Code, ContinentCode, SubregionCode, CountryCode, CountryCodeISOa3, SubdivisionCode, Lat, Lon, Population, GleamID]\nIndex: []",
      "text/html": "<div>\n<style scoped>\n    .dataframe tbody tr th:only-of-type {\n        vertical-align: middle;\n    }\n\n    .dataframe tbody tr th {\n        vertical-align: top;\n    }\n\n    .dataframe thead th {\n        text-align: right;\n    }\n</style>\n<table border=\"1\" class=\"dataframe\">\n  <thead>\n    <tr style=\"text-align: right;\">\n      <th></th>\n      <th>Code</th>\n      <th>Name</th>\n      <th>OfficialName</th>\n      <th>OtherNames</th>\n      <th>Level</th>\n      <th>M49Code</th>\n      <th>ContinentCode</th>\n      <th>SubregionCode</th>\n      <th>CountryCode</th>\n      <th>CountryCodeISOa3</th>\n      <th>SubdivisionCode</th>\n      <th>Lat</th>\n      <th>Lon</th>\n      <th>Population</th>\n      <th>GleamID</th>\n    </tr>\n  </thead>\n  <tbody>\n  </tbody>\n</table>\n</div>"
     },
     "metadata": {},
     "output_type": "execute_result",
     "execution_count": 9
    }
   ],
   "source": [
    "gleam_reg_df.loc[gleam_reg_df.Code.isin(aggregated_regions)]"
   ],
   "metadata": {
    "collapsed": false,
    "pycharm": {
     "name": "#%%\n",
     "is_executing": false
    }
   }
  },
  {
   "cell_type": "code",
   "execution_count": 78,
   "outputs": [],
   "source": [
    "with (data_dir / 'regions-agg.yaml').open('a') as f:\n",
    "    reg_agg = yaml.dump(reg_agg, f)"
   ],
   "metadata": {
    "collapsed": false,
    "pycharm": {
     "name": "#%%\n",
     "is_executing": false
    }
   }
  },
  {
   "cell_type": "code",
   "execution_count": 15,
   "outputs": [
    {
     "name": "stderr",
     "text": [
      "/home/radyop/bs/covid/venv/lib/python3.7/site-packages/ipykernel_launcher.py:2: YAMLLoadWarning: calling yaml.load() without Loader=... is deprecated, as the default Loader is unsafe. Please read https://msg.pyyaml.org/load for full details.\n  \n"
     ],
     "output_type": "stream"
    }
   ],
   "source": [
    "with (data_dir / 'regions-agg.yaml').open('r') as f:\n",
    "    reg_agg = yaml.load(f)\n",
    "\n",
    "aggregated_regions = sum([\n",
    "    list(value['AggregateFrom'].keys())\n",
    "    if isinstance(value['AggregateFrom'], dict)\n",
    "    else value['AggregateFrom']\n",
    "    for value in reg_agg.values()\n",
    "], [])"
   ],
   "metadata": {
    "collapsed": false,
    "pycharm": {
     "name": "#%%\n",
     "is_executing": false
    }
   }
  },
  {
   "cell_type": "code",
   "execution_count": 18,
   "outputs": [
    {
     "name": "stderr",
     "text": [
      "/home/radyop/bs/covid/venv/lib/python3.7/site-packages/ipykernel_launcher.py:1: FutureWarning: The pandas.np module is deprecated and will be removed from pandas in a future version. Import numpy directly instead\n  \"\"\"Entry point for launching an IPython kernel.\n"
     ],
     "output_type": "stream"
    }
   ],
   "source": [
    "gleam_reg_df.loc[gleam_reg_df.Code.isin(aggregated_regions), 'SubdivisionCode'] = pd.np.nan\n"
   ],
   "metadata": {
    "collapsed": false,
    "pycharm": {
     "name": "#%%\n",
     "is_executing": false
    }
   }
  },
  {
   "cell_type": "code",
   "execution_count": 21,
   "outputs": [],
   "source": [
    "gleam_reg_df.set_index('Code').to_csv(data_dir / 'regions-gleam_cleaned.csv')\n"
   ],
   "metadata": {
    "collapsed": false,
    "pycharm": {
     "name": "#%%\n",
     "is_executing": false
    }
   }
  },
  {
   "cell_type": "code",
   "execution_count": null,
   "outputs": [],
   "source": [
    "\n"
   ],
   "metadata": {
    "collapsed": false,
    "pycharm": {
     "name": "#%%\n"
    }
   }
  }
 ],
 "metadata": {
  "kernelspec": {
   "display_name": "Python 3",
   "language": "python",
   "name": "python3"
  },
  "language_info": {
   "codemirror_mode": {
    "name": "ipython",
    "version": 2
   },
   "file_extension": ".py",
   "mimetype": "text/x-python",
   "name": "python",
   "nbconvert_exporter": "python",
   "pygments_lexer": "ipython2",
   "version": "2.7.6"
  },
  "pycharm": {
   "stem_cell": {
    "cell_type": "raw",
    "source": [],
    "metadata": {
     "collapsed": false
    }
   }
  }
 },
 "nbformat": 4,
 "nbformat_minor": 0
}